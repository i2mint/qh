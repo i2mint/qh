{
 "cells": [
  {
   "cell_type": "markdown",
   "metadata": {},
   "source": [
    "This notebook is a WIP (work in progress) notebook to redo `qh`, \n",
    "moving it away from it's current core of `py2http` and making it (hopefully) a better basis.\n",
    "\n",
    "The better basis we want to have:\n",
    "* use wrapping and routing tools of `i2`\n",
    "* use `FastAPI` as the backend\n",
    "\n",
    "Ideally, we'd like to facade our relationship with `FastAPI`, eventually.\n",
    "But given the current context (new `i2mint` devs), we will not try to hard \n",
    "(not too the point of slowing us down too much).\n",
    "\n",
    "Before `py2http`, there was `py2api`, and before that `flask_wrap`. \n",
    "We should look there for the good ideas, so we don't have to rethink them, or redo the same mistakes.\n"
   ]
  },
  {
   "cell_type": "markdown",
   "metadata": {},
   "source": [
    "# Warm up"
   ]
  },
  {
   "cell_type": "markdown",
   "metadata": {},
   "source": [
    "We'll start with a simple `FastAPI` webservice, and gradually refactor towards \n",
    "increasingly more declarative architectures."
   ]
  },
  {
   "cell_type": "code",
   "execution_count": 1,
   "metadata": {},
   "outputs": [],
   "source": [
    "from dol import wrap_kvs"
   ]
  },
  {
   "cell_type": "code",
   "execution_count": null,
   "metadata": {},
   "outputs": [],
   "source": []
  }
 ],
 "metadata": {
  "kernelspec": {
   "display_name": "p10",
   "language": "python",
   "name": "python3"
  },
  "language_info": {
   "codemirror_mode": {
    "name": "ipython",
    "version": 3
   },
   "file_extension": ".py",
   "mimetype": "text/x-python",
   "name": "python",
   "nbconvert_exporter": "python",
   "pygments_lexer": "ipython3",
   "version": "3.10.13"
  }
 },
 "nbformat": 4,
 "nbformat_minor": 2
}
