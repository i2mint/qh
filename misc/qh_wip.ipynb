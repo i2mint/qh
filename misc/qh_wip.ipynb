{
 "cells": [
  {
   "cell_type": "code",
   "execution_count": null,
   "id": "99371963",
   "metadata": {},
   "outputs": [],
   "source": []
  },
  {
   "cell_type": "code",
   "execution_count": null,
   "id": "d3aefea6",
   "metadata": {},
   "outputs": [],
   "source": [
    "methods = {\n",
    "    \"__iter__\": {\"path\": \"/mall/{store_key}\", \"method\": \"get\"},\n",
    "    \"__getitem__\": {\"path\": \"/mall/{store_key}/item/{item_key}\", \"method\": \"get\"},\n",
    "    \"__setitem__\": {\"path\": \"/mall/{store_key}/item/{item_key}\", \"method\": \"put\"},\n",
    "}"
   ]
  },
  {
   "cell_type": "code",
   "execution_count": null,
   "id": "5a1ba0a9",
   "metadata": {},
   "outputs": [],
   "source": []
  },
  {
   "cell_type": "code",
   "execution_count": null,
   "id": "c7a0a269",
   "metadata": {},
   "outputs": [],
   "source": []
  },
  {
   "cell_type": "code",
   "execution_count": null,
   "id": "c5180514",
   "metadata": {},
   "outputs": [],
   "source": []
  }
 ],
 "metadata": {
  "language_info": {
   "name": "python"
  }
 },
 "nbformat": 4,
 "nbformat_minor": 5
}
